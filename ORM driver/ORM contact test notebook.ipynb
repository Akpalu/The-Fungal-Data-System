{
 "cells": [
  {
   "cell_type": "markdown",
   "metadata": {},
   "source": [
    "## To run this code \n",
    "in its expected manner, you need to provide the associated backend_utilities.py module with the credentials to operate a PostGreSQL database. That database needs to contain a table called \"separators\" and this table needs to consist of two text fields, named \"separator\" and \"language\". Otherwise you will get some error messages that are not documented here."
   ]
  },
  {
   "cell_type": "code",
   "execution_count": null,
   "metadata": {},
   "outputs": [],
   "source": [
    "from fds_orm import ORM_driver"
   ]
  },
  {
   "cell_type": "markdown",
   "metadata": {},
   "source": [
    "This example shows what happens if you pass the ORM parameters that do not have the same names as the ones that the SQL-writing function expects."
   ]
  },
  {
   "cell_type": "code",
   "execution_count": null,
   "metadata": {},
   "outputs": [],
   "source": [
    "param_dict = {\"separator\": \"x%%%\", \"language\": \"gibberish\"}\n",
    "return_vals = ORM_driver(\"new_separator_sql\", param_dict)\n",
    "print(return_vals[0])\n",
    "print(return_vals[1])\n",
    "\n",
    "# Error: parameter mismatch! \n",
    "#                Missing parameters: new_separator\n",
    "#                Extra parameters: separator\n",
    "# False"
   ]
  },
  {
   "cell_type": "markdown",
   "metadata": {},
   "source": [
    "This example shows what happens when you correctly call the routine to add a separator to the table."
   ]
  },
  {
   "cell_type": "code",
   "execution_count": null,
   "metadata": {},
   "outputs": [],
   "source": [
    "param_dict = {\"new_separator\": \"x%%%\", \"language\": \"gibberish\"}\n",
    "return_msg, query_success = ORM_driver(\"new_separator_sql\", param_dict) #, True\n",
    "print(return_msg)\n",
    "print(query_success)\n",
    "\n",
    "# First time: \n",
    "#'PG_Commit_Success_Msg: separators entry added'\n",
    "# True\n",
    "\n",
    "\n",
    "# If you run this again (and you've set the separator column \n",
    "# in the target table correctly set to be the table's Primary Key!) \n",
    "# you'll get to see the error response:\n",
    "\n",
    "# PG_Commit_Error: A PostGres IntegrityError occurred when attempting to execute the SQL statement.\n",
    "            \n",
    "# --- INSERT INTO separators VALUES ('x%%%', 'gibberish') ---\n",
    "            \n",
    "# Problems: 'duplicate key value violates unique constraint \"separators_prkey\" Key (separator)=(x%%%) already exists.' : \n",
    "# separators entry not added\n",
    "# False"
   ]
  },
  {
   "cell_type": "markdown",
   "metadata": {},
   "source": [
    "This example shows how to change the language of a separator."
   ]
  },
  {
   "cell_type": "code",
   "execution_count": null,
   "metadata": {},
   "outputs": [],
   "source": [
    "param_dict = {\"separator\": \"x%%%\", \"new_language\": \"French\"}\n",
    "return_msg, query_success = ORM_driver(\"change_separator_language_sql\", param_dict)\n",
    "print(return_msg)\n",
    "print(query_success)\n",
    "# 'PG_Commit_Success_Msg: separators entry updated'\n",
    "# True"
   ]
  },
  {
   "cell_type": "markdown",
   "metadata": {},
   "source": [
    "This example shows how to delete a separator from the table."
   ]
  },
  {
   "cell_type": "code",
   "execution_count": null,
   "metadata": {},
   "outputs": [],
   "source": [
    "param_dict = {\"badseparator\": \"x%%%\"}\n",
    "return_msg, query_success = ORM_driver(\"delete_separator\", param_dict)\n",
    "print(return_msg)\n",
    "print(query_success)\n",
    "\n",
    "# 'PG_Commit_Success_Msg: separators entry deleted'\n",
    "# True"
   ]
  },
  {
   "cell_type": "markdown",
   "metadata": {},
   "source": [
    "This example shows what happens if you try to call a SQL-writing function that doesn't exist."
   ]
  },
  {
   "cell_type": "code",
   "execution_count": null,
   "metadata": {},
   "outputs": [],
   "source": [
    "#This function doesn't exist, so it should return the appropriate error message\n",
    "param_dict = {\"separator\": \"x%%%\", \"new_language\": \"French\"}\n",
    "return_msg, query_success = ORM_driver(\"misspelled_function\", param_dict)\n",
    "print(return_msg)\n",
    "print(query_success)\n",
    "\n",
    "# Error: SQL-writing function \n",
    "        \n",
    "# --- misspelled_function ---\n",
    "        \n",
    "# not found!\n",
    "# False"
   ]
  },
  {
   "cell_type": "markdown",
   "metadata": {},
   "source": [
    "The SQL-writing function in this example was created solely to test error handling. It expects three parameters and tries to write values for three columns into the table; but the table only has two columns.\n",
    "\n",
    "I should probably rename the functions like this something like \"error_test_function__expected_error_name\"."
   ]
  },
  {
   "cell_type": "code",
   "execution_count": null,
   "metadata": {},
   "outputs": [],
   "source": [
    "param_dict = {\"new_separator\": \"x%%%\", \"language\": \"French\", \"extra_param\": \"extra\"}\n",
    "return_msg, query_success = ORM_driver(\"bad_separator_sql\", param_dict)\n",
    "print(return_msg)\n",
    "print(query_success)\n",
    "\n",
    "# PG_Commit_Error: A PostGres ProgrammingError occurred when attempting to execute the SQL statement.\n",
    "            \n",
    "# --- INSERT INTO separators VALUES ('x%%%', 'French', 'extra') ---\n",
    "            \n",
    "# Problems: 'INSERT has more expressions than target columns' : separators entry badded\n",
    "# False"
   ]
  },
  {
   "cell_type": "code",
   "execution_count": null,
   "metadata": {},
   "outputs": [],
   "source": []
  }
 ],
 "metadata": {
  "kernelspec": {
   "display_name": "Python 3",
   "language": "python",
   "name": "python3"
  },
  "language_info": {
   "codemirror_mode": {
    "name": "ipython",
    "version": 3
   },
   "file_extension": ".py",
   "mimetype": "text/x-python",
   "name": "python",
   "nbconvert_exporter": "python",
   "pygments_lexer": "ipython3",
   "version": "3.8.5"
  }
 },
 "nbformat": 4,
 "nbformat_minor": 4
}
